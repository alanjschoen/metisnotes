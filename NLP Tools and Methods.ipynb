{
 "cells": [
  {
   "cell_type": "markdown",
   "metadata": {},
   "source": [
    "# Datasets\n",
    "\n",
    "### Newsgroups"
   ]
  },
  {
   "cell_type": "code",
   "execution_count": null,
   "metadata": {
    "collapsed": false
   },
   "outputs": [],
   "source": [
    "from sklearn.datasets import fetch_20newsgroups\n",
    "dataset = fetch_20newsgroups(shuffle=True, random_state=2,\n",
    "                             remove=('headers', 'footers', 'quotes'))\n",
    "text_samples = dataset.data[:1000]\n",
    "text = text_samples[0]\n",
    "text"
   ]
  },
  {
   "cell_type": "markdown",
   "metadata": {},
   "source": [
    "### Reuters"
   ]
  },
  {
   "cell_type": "code",
   "execution_count": 1,
   "metadata": {
    "collapsed": false
   },
   "outputs": [],
   "source": [
    "import lda.datasets\n",
    "reuters_word_vector = lda.datasets.load_reuters()\n",
    "reuters_vocab = lda.datasets.load_reuters_vocab()\n",
    "reuters_titles = lda.datasets.load_reuters_titles()"
   ]
  },
  {
   "cell_type": "markdown",
   "metadata": {},
   "source": [
    "# Tokenizing"
   ]
  },
  {
   "cell_type": "code",
   "execution_count": null,
   "metadata": {
    "collapsed": false
   },
   "outputs": [],
   "source": [
    "import nltk\n",
    "tokens = [word for sent in nltk.sent_tokenize(text) for word in nltk.word_tokenize(sent)]\n",
    "fh_tokenize = lambda text: [word for sent in nltk.sent_tokenize(text) for word in nltk.word_tokenize(sent)]"
   ]
  },
  {
   "cell_type": "markdown",
   "metadata": {},
   "source": [
    "# Stemming"
   ]
  },
  {
   "cell_type": "code",
   "execution_count": 3,
   "metadata": {
    "collapsed": true
   },
   "outputs": [],
   "source": [
    "import nltk\n",
    "from nltk.stem.snowball import SnowballStemmer\n",
    "stemmer = SnowballStemmer(\"english\")\n",
    "stems = [stemmer.stem(t) for t in tokens]"
   ]
  },
  {
   "cell_type": "code",
   "execution_count": 5,
   "metadata": {
    "collapsed": false
   },
   "outputs": [],
   "source": [
    "import nltk\n",
    "from nltk.stem.porter import PorterStemmer\n",
    "stemmer = PorterStemmer()\n",
    "stems = [stemmer.stem(t) for t in tokens]"
   ]
  },
  {
   "cell_type": "code",
   "execution_count": 6,
   "metadata": {
    "collapsed": true
   },
   "outputs": [],
   "source": [
    "import nltk\n",
    "from nltk.stem.lancaster import LancasterStemmer\n",
    "stemmer = LancasterStemmer()\n",
    "stems = [stemmer.stem(t) for t in tokens]"
   ]
  },
  {
   "cell_type": "markdown",
   "metadata": {},
   "source": [
    "# Stop Words"
   ]
  },
  {
   "cell_type": "code",
   "execution_count": 82,
   "metadata": {
    "collapsed": false
   },
   "outputs": [],
   "source": [
    "from nltk.corpus import stopwords\n",
    "stoplist = stopwords.words('english')"
   ]
  },
  {
   "cell_type": "markdown",
   "metadata": {},
   "source": [
    "# Vectorizing\n",
    "### CountVectorizer"
   ]
  },
  {
   "cell_type": "code",
   "execution_count": 47,
   "metadata": {
    "collapsed": false
   },
   "outputs": [
    {
     "data": {
      "text/plain": [
       "<1000x1000 sparse matrix of type '<type 'numpy.int64'>'\n",
       "\twith 23656 stored elements in Compressed Sparse Row format>"
      ]
     },
     "execution_count": 47,
     "metadata": {},
     "output_type": "execute_result"
    }
   ],
   "source": [
    "from sklearn.feature_extraction.text import CountVectorizer\n",
    "tf_vectorizer = CountVectorizer(max_df=0.95, min_df=2, max_features=1000,\n",
    "                                stop_words='english')\n",
    "tf_matrix = tf_vectorizer.fit_transform(text_samples)\n",
    "tf_vocab = tf_vectorizer.get_feature_names()\n",
    "tf_matrix"
   ]
  },
  {
   "cell_type": "markdown",
   "metadata": {},
   "source": [
    "### TfidfVectorizer"
   ]
  },
  {
   "cell_type": "code",
   "execution_count": 48,
   "metadata": {
    "collapsed": false
   },
   "outputs": [
    {
     "data": {
      "text/plain": [
       "<1000x108 sparse matrix of type '<type 'numpy.float64'>'\n",
       "\twith 25613 stored elements in Compressed Sparse Row format>"
      ]
     },
     "execution_count": 48,
     "metadata": {},
     "output_type": "execute_result"
    }
   ],
   "source": [
    "from sklearn.feature_extraction.text import TfidfVectorizer\n",
    "tfidf_vectorizer = TfidfVectorizer(max_df=0.8, max_features=20000,\n",
    "                                 min_df=0.1)\n",
    "                                 #use_idf=True, tokenizer=nltk.word_tokenize, ngram_range=(1,3)\n",
    "tfidf_matrix = tfidf_vectorizer.fit_transform(text_samples) #fit the vectorizer to synopses\n",
    "tfidf_vocab = tfidf_vectorizer.get_feature_names()\n",
    "tfidf_matrix"
   ]
  },
  {
   "cell_type": "markdown",
   "metadata": {},
   "source": [
    "# Topic Modeling\n",
    "## LDA: Latent Drichlet Allocation\n",
    "\n",
    "[Lecture ipynb](https://github.com/thisismetis/nyc16_ds8/blob/master/class_lectures/week08-fletcher2/01-LDA/LDA.ipynb)\n",
    "\n",
    "### sklearn"
   ]
  },
  {
   "cell_type": "code",
   "execution_count": null,
   "metadata": {
    "collapsed": true
   },
   "outputs": [],
   "source": [
    "from sklearn.decomposition import LatentDirichletAllocation\n",
    "lda = LatentDirichletAllocation(n_topics=n_topics, max_iter=5,\n",
    "                                learning_method='online', learning_offset=50.,\n",
    "                                random_state=0)\n",
    "lda.fit(tf_matrix)"
   ]
  },
  {
   "cell_type": "markdown",
   "metadata": {},
   "source": [
    "### lda\n",
    "[source](https://pypi.python.org/pypi/lda)"
   ]
  },
  {
   "cell_type": "code",
   "execution_count": 2,
   "metadata": {
    "collapsed": false
   },
   "outputs": [
    {
     "data": {
      "text/plain": [
       "<lda.lda.LDA instance at 0x103894050>"
      ]
     },
     "execution_count": 2,
     "metadata": {},
     "output_type": "execute_result"
    }
   ],
   "source": [
    "import lda\n",
    "model = lda.LDA(n_topics=20, n_iter=1500, random_state=1)\n",
    "model.fit(reuters_word_vector)  # model.fit_transform(X) is also available"
   ]
  },
  {
   "cell_type": "code",
   "execution_count": null,
   "metadata": {
    "collapsed": true
   },
   "outputs": [],
   "source": [
    "# Print topic words\n",
    "topic_word = model.topic_word_  # model.components_ also works\n",
    "n_top_words = 8\n",
    "for i, topic_dist in enumerate(topic_word):\n",
    "    topic_words = np.array(vocab)[np.argsort(topic_dist)][:-(n_top_words+1):-1]\n",
    "    print('Topic {}: {}'.format(i, ' '.join(topic_words)))"
   ]
  },
  {
   "cell_type": "code",
   "execution_count": null,
   "metadata": {
    "collapsed": true
   },
   "outputs": [],
   "source": [
    "# Print document topics\n",
    "doc_topic = model.doc_topic_\n",
    "for i in range(10):\n",
    "    print(\"{} (top topic: {})\".format(titles[i], doc_topic[i].argmax()))"
   ]
  },
  {
   "cell_type": "markdown",
   "metadata": {},
   "source": [
    "# Machine Learning\n",
    "## Classification\n",
    "### Naive Bayes\n",
    "#### Sci-Kit Learn"
   ]
  },
  {
   "cell_type": "code",
   "execution_count": null,
   "metadata": {
    "collapsed": true
   },
   "outputs": [],
   "source": [
    "from sklearn.cross_validation import train_test_split\n",
    "from sklearn import naive_bayes\n",
    "from sklearn.metrics import accuracy_score, classification_report\n",
    "\n",
    "Y = np.random.randint(0,2,tfidf_matrix.shape[1])==1\n",
    "X_train, X_test, Y_train, Y_test = train_test_split(tf_matrix, Y, test_size=0.333,random_state=1234)\n",
    "\n",
    "model = naive_bayes.MultinomialNB() # Count features (TF)\n",
    "#model = naive_bayes.BernoulliNB(binarize=0.0) # Boolean features (TF or TF-IDF)\n",
    "#model = naive_bayes.GaussianNB() # Continuous features (TF-IDF)\n",
    "\n",
    "\n",
    "model.fit(X_train, Y_train)\n",
    "\n",
    "print \"Accuracy: %.3f\"% accuracy_score(Y_test, model.predict(X_test))\n",
    "print classification_report(Y_test, model.predict(X_test))\n",
    "\n",
    "# model.feature_log_prob_ has feature weights in model (Multinomial/Bernoulli)\n",
    "# model.theta_, model.sigma_ contain mean, variance of each feature per class (Gaussian)\n",
    "# model.coef_ has coefficients adjusted to be like linear regression (only in Multinomial)"
   ]
  },
  {
   "cell_type": "markdown",
   "metadata": {},
   "source": [
    "#### NLTK\n",
    "[Source blog](http://www.laurentluce.com/posts/twitter-sentiment-analysis-using-python-and-nltk/)\n",
    "[Source 2](http://www.nltk.org/howto/sentiment.html)"
   ]
  },
  {
   "cell_type": "code",
   "execution_count": null,
   "metadata": {
    "collapsed": true
   },
   "outputs": [],
   "source": [
    "training_set = nltk.classify.apply_features(fh_tokenize, text_samples[:7000])\n",
    "testing_set = nltk.classify.apply_features(fh_tokenize, text_samples[7000:])\n",
    "classifier = nltk.NaiveBayesClassifier.train(training_set)\n",
    "print(\"Classifier accuracy percent:\",(nltk.classify.accuracy(classifier, testing_set))*100)\n",
    "classifier.show_most_informative_features(15)"
   ]
  },
  {
   "cell_type": "markdown",
   "metadata": {},
   "source": [
    "## Vectorization\n",
    "### Gensym\n",
    "\n",
    "word2vec with gensym\n",
    "[lecture ipynb](https://github.com/thisismetis/nyc16_ds8/blob/master/class_lectures/week08-fletcher2/02-word2vec/WORD2VEC_GENSIM.ipynb)"
   ]
  },
  {
   "cell_type": "code",
   "execution_count": 102,
   "metadata": {
    "collapsed": true
   },
   "outputs": [],
   "source": [
    "import gensim\n",
    "# The type of input that Word2Vec is looking for.. \n",
    "texts = [[word for word in document.lower().split() if word not in stoplist]\n",
    "         for document in text_samples]\n",
    "model = gensim.models.Word2Vec(texts, size=100, window=5, min_count=1, workers=4,sg=1)"
   ]
  },
  {
   "cell_type": "code",
   "execution_count": 133,
   "metadata": {
    "collapsed": false
   },
   "outputs": [
    {
     "name": "stdout",
     "output_type": "stream",
     "text": [
      "Vocab(count:11, index:1408, sample_int:4294967296)\n",
      "Vocab(count:6, index:2670, sample_int:4294967296)\n",
      "Vocab(count:5, index:3018, sample_int:4294967296)\n",
      "Vocab(count:9, index:1696, sample_int:4294967296)\n",
      "[(u'engine', 0.9990893006324768), (u'explained', 0.9990804195404053), (u'property', 0.9990782141685486), (u'swap', 0.9990752935409546)]\n",
      "0.997880684459\n",
      "0.998612564475\n",
      "koresh\n"
     ]
    }
   ],
   "source": [
    "# Some useful attributes\n",
    "print model.vocab[u'koresh']\n",
    "print model.vocab[u'cult']\n",
    "print model.vocab[u'waco']\n",
    "print model.vocab[u'motherboard']\n",
    "print model.most_similar('usenet' ,topn=4)\n",
    "print model.similarity('woman','man')\n",
    "print model.n_similarity(['woman', 'girl'], ['man', 'boy'])\n",
    "print model.doesnt_match(\"waco koresh cult motherboard\".split()) # this doesn't work very well"
   ]
  },
  {
   "cell_type": "markdown",
   "metadata": {},
   "source": [
    "# Dimensionality Reduction\n",
    "Lecture about PCA and SVD [ipynb](https://github.com/thisismetis/nyc16_ds8/blob/master/class_lectures/week07-fletcher1/04-dim_reduct/pca_svd.ipynb)  \n",
    "## PCA"
   ]
  },
  {
   "cell_type": "code",
   "execution_count": 72,
   "metadata": {
    "collapsed": false
   },
   "outputs": [],
   "source": [
    "from sklearn.decomposition import PCA\n",
    "pca = PCA(n_components=20)\n",
    "X = pca.fit_transform(tfidf_matrix.toarray()) "
   ]
  },
  {
   "cell_type": "markdown",
   "metadata": {},
   "source": [
    "## SVD"
   ]
  },
  {
   "cell_type": "code",
   "execution_count": 76,
   "metadata": {
    "collapsed": false
   },
   "outputs": [],
   "source": [
    "from sklearn.decomposition import TruncatedSVD\n",
    "svd = TruncatedSVD(n_components=20, random_state=42)\n",
    "X = svd.fit_transform(tfidf_matrix)"
   ]
  },
  {
   "cell_type": "markdown",
   "metadata": {},
   "source": [
    "# Clustering\n",
    "## KMeans"
   ]
  },
  {
   "cell_type": "code",
   "execution_count": 78,
   "metadata": {
    "collapsed": false
   },
   "outputs": [],
   "source": [
    "# from sklearn.preprocessing import scale\n",
    "# X = scale(tfidf_matrix.toarray())\n",
    "\n",
    "from sklearn.cluster import KMeans\n",
    "model = KMeans().fit(X)\n",
    "clusters = model.predict(X)"
   ]
  },
  {
   "cell_type": "markdown",
   "metadata": {},
   "source": [
    "## Hierarchical clustering\n",
    "Lectore [PDF](https://github.com/thisismetis/nyc16_ds8/blob/master/class_lectures/week08-fletcher2/03-more_clustering/Other_Clustering_Algorithms.pdf)  \n",
    "\n",
    "Hierarchical clustering requires two steps\n",
    "1. Compute distances\n",
    "2. Compute linkage\n",
    "\n",
    "Once these are applied, you can plot a dendrogram.\n",
    "\n",
    "### AgglomerativeClustering\n",
    "This function can do it all"
   ]
  },
  {
   "cell_type": "code",
   "execution_count": null,
   "metadata": {
    "collapsed": true
   },
   "outputs": [],
   "source": [
    "# NOTE: I have not used this function yet.  This code will crash.\n",
    "from sklearn.cluster import AgglomerativeClustering\n",
    "agg = AgglomerativeClustering(n_clusters=100, linkage='average', affinity='cosine')\n",
    "labels = agg.fit_predict(tfidf_matrix.toarray())"
   ]
  },
  {
   "cell_type": "markdown",
   "metadata": {},
   "source": [
    "## Distance"
   ]
  },
  {
   "cell_type": "code",
   "execution_count": 58,
   "metadata": {
    "collapsed": false
   },
   "outputs": [],
   "source": [
    "from sklearn.metrics.pairwise import cosine_distances\n",
    "dist = cosine_distances(tfidf_matrix)"
   ]
  },
  {
   "cell_type": "code",
   "execution_count": 39,
   "metadata": {
    "collapsed": false
   },
   "outputs": [],
   "source": [
    "from sklearn.metrics.pairwise import euclidean_distances\n",
    "dist = euclidean_distances(tfidf_matrix)"
   ]
  },
  {
   "cell_type": "code",
   "execution_count": 49,
   "metadata": {
    "collapsed": false
   },
   "outputs": [],
   "source": [
    "from scipy.spatial.distance import pdist, squareform\n",
    "dist = pdist(tfidf_matrix.toarray(), metric='jaccard') # cosine, euclidean, jaccard, cityblock"
   ]
  },
  {
   "cell_type": "markdown",
   "metadata": {},
   "source": [
    "## Linkage"
   ]
  },
  {
   "cell_type": "code",
   "execution_count": 54,
   "metadata": {
    "collapsed": false
   },
   "outputs": [],
   "source": [
    "# Note: this crashes because the result of above has NaNs in it\n",
    "from scipy.cluster.hierarchy import average#, ward, single, complete\n",
    "linkage_matrix = average(dist) "
   ]
  },
  {
   "cell_type": "code",
   "execution_count": 59,
   "metadata": {
    "collapsed": false
   },
   "outputs": [],
   "source": [
    "from scipy.cluster.hierarchy import linkage\n",
    "linkage_matrix = linkage(dist, 'ward') # ward, single, complete, average"
   ]
  },
  {
   "cell_type": "markdown",
   "metadata": {},
   "source": [
    "## Dendrogram"
   ]
  },
  {
   "cell_type": "code",
   "execution_count": null,
   "metadata": {
    "collapsed": false
   },
   "outputs": [],
   "source": [
    "from scipy.cluster.hierarchy import dendrogram\n",
    "import matplotlib.pyplot as plt\n",
    "%matplotlib inline\n",
    "fig, ax = plt.subplots(figsize=(15, 20)) # set size\n",
    "ax = dendrogram(linkage_matrix, orientation=\"right\");\n",
    "\n",
    "plt.tick_params(\\\n",
    "    axis= 'x',          # changes apply to the x-axis\n",
    "    which='both',      # both major and minor ticks are affected\n",
    "    bottom='off',      # ticks along the bottom edge are off\n",
    "    top='off',         # ticks along the top edge are off\n",
    "    labelbottom='off')\n",
    "\n",
    "plt.tight_layout() #show plot with tight layout\n",
    "\n",
    "#uncomment below to save figure\n",
    "plt.savefig('ward_clusters.png', dpi=200) #save figure as ward_clusters"
   ]
  },
  {
   "cell_type": "markdown",
   "metadata": {},
   "source": [
    "### Choosing clusters\n",
    "You can also make clusters from hierarchical clusters, but I haven't researched the methods yet"
   ]
  },
  {
   "cell_type": "markdown",
   "metadata": {},
   "source": [
    "# Resources\n",
    "Lecture about PCA and SVD [ipynb](https://github.com/thisismetis/nyc16_ds8/blob/master/class_lectures/week07-fletcher1/04-dim_reduct/pca_svd.ipynb)  \n",
    "Solution to pair programming exercise about yelp reviews [ipynb](https://github.com/thisismetis/nyc16_ds8/blob/master/class_lectures/week07-fletcher1/05-unsup_kmeans/pair.ipynb)  \n",
    "NLP lecture: [ipynb](https://github.com/thisismetis/nyc16_ds8/blob/master/class_lectures/week07-fletcher1/03-nlp/NLP_nltk.ipynb)  \n",
    "Topic modeling lecture [PDF](https://github.com/thisismetis/nyc16_ds8/blob/master/class_lectures/week08-fletcher2/01-LDA/Topic_Modeling.pdf)  \n",
    "LDA lecture: [ipynb](https://github.com/thisismetis/nyc16_ds8/blob/master/class_lectures/week08-fletcher2/01-LDA/LDA.ipynb)  \n",
    "Solution to name/gender pair programming exercize [ipynb](https://github.com/thisismetis/nyc16_ds8/blob/master/class_lectures/week07-fletcher1/03-nlp/NLP_Notebook.ipynb)  \n",
    "Word2vec with gensym [ipynb](https://github.com/thisismetis/nyc16_ds8/blob/master/class_lectures/week08-fletcher2/02-word2vec/WORD2VEC_GENSIM.ipynb)  \n",
    "Other clustering [PDF](https://github.com/thisismetis/nyc16_ds8/blob/master/class_lectures/week08-fletcher2/03-more_clustering/Other_Clustering_Algorithms.pdf)  "
   ]
  },
  {
   "cell_type": "code",
   "execution_count": null,
   "metadata": {
    "collapsed": true
   },
   "outputs": [],
   "source": []
  }
 ],
 "metadata": {
  "kernelspec": {
   "display_name": "Python 2",
   "language": "python",
   "name": "python2"
  },
  "language_info": {
   "codemirror_mode": {
    "name": "ipython",
    "version": 2
   },
   "file_extension": ".py",
   "mimetype": "text/x-python",
   "name": "python",
   "nbconvert_exporter": "python",
   "pygments_lexer": "ipython2",
   "version": "2.7.10"
  }
 },
 "nbformat": 4,
 "nbformat_minor": 0
}
